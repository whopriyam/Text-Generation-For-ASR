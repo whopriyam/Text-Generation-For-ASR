{
 "cells": [
  {
   "cell_type": "code",
   "execution_count": 8,
   "metadata": {},
   "outputs": [],
   "source": [
    "listt = []\n",
    "for i in range (0,361):\n",
    "    listt.append(str(i))"
   ]
  },
  {
   "cell_type": "code",
   "execution_count": 30,
   "metadata": {},
   "outputs": [
    {
     "name": "stdout",
     "output_type": "stream",
     "text": [
      "['0', '1', '2', '3', '4', '5', '6', '7', '8', '9', '10', '11', '12', '13', '14', '15', '16', '17', '18', '19', '20', '21', '22', '23', '24', '25', '26', '27', '28', '29', '30', '31', '32', '33', '34', '35', '36', '37', '38', '39', '40', '41', '42', '43', '44', '45', '46', '47', '48', '49', '50', '51', '52', '53', '54', '55', '56', '57', '58', '59', '60', '61', '62', '63', '64', '65', '66', '67', '68', '69', '70', '71', '72', '73', '74', '75', '76', '77', '78', '79', '80', '81', '82', '83', '84', '85', '86', '87', '88', '89', '90', '91', '92', '93', '94', '95', '96', '97', '98', '99', '100', '101', '102', '103', '104', '105', '106', '107', '108', '109', '110', '111', '112', '113', '114', '115', '116', '117', '118', '119', '120', '121', '122', '123', '124', '125', '126', '127', '128', '129', '130', '131', '132', '133', '134', '135', '136', '137', '138', '139', '140', '141', '142', '143', '144', '145', '146', '147', '148', '149', '150', '151', '152', '153', '154', '155', '156', '157', '158', '159', '160', '161', '162', '163', '164', '165', '166', '167', '168', '169', '170', '171', '172', '173', '174', '175', '176', '177', '178', '179', '180', '181', '182', '183', '184', '185', '186', '187', '188', '189', '190', '191', '192', '193', '194', '195', '196', '197', '198', '199', '200', '201', '202', '203', '204', '205', '206', '207', '208', '209', '210', '211', '212', '213', '214', '215', '216', '217', '218', '219', '220', '221', '222', '223', '224', '225', '226', '227', '228', '229', '230', '231', '232', '233', '234', '235', '236', '237', '238', '239', '240', '241', '242', '243', '244', '245', '246', '247', '248', '249', '250', '251', '252', '253', '254', '255', '256', '257', '258', '259', '260', '261', '262', '263', '264', '265', '266', '267', '268', '269', '270', '271', '272', '273', '274', '275', '276', '277', '278', '279', '280', '281', '282', '283', '284', '285', '286', '287', '288', '289', '290', '291', '292', '293', '294', '295', '296', '297', '298', '299', '300', '301', '302', '303', '304', '305', '306', '307', '308', '309', '310', '311', '312', '313', '314', '315', '316', '317', '318', '319', '320', '321', '322', '323', '324', '325', '326', '327', '328', '329', '330', '331', '332', '333', '334', '335', '336', '337', '338', '339', '340', '341', '342', '343', '344', '345', '346', '347', '348', '349', '350', '351', '352', '353', '354', '355', '356', '357', '358', '359', '360']\n"
     ]
    }
   ],
   "source": [
    "print (listt)"
   ]
  },
  {
   "cell_type": "code",
   "execution_count": 32,
   "metadata": {},
   "outputs": [
    {
     "name": "stdout",
     "output_type": "stream",
     "text": [
      "['0', '1', '2', '3', '4', '5', '6', '7', '8', '9']\n",
      "['zero', 'zero zero', 'zero zero zero', 'one', 'zero one', 'zero zero one', 'two', 'zero two', 'zero zero two', 'three', 'zero three', 'zero zero three', 'four', 'zero four', 'zero zero four', 'five', 'zero five', 'zero zero five', 'six', 'zero six', 'zero zero six', 'seven', 'zero seven', 'zero zero seven', 'eight', 'zero eight', 'zero zero eight', 'nine', 'zero nine', 'zero zero nine']\n"
     ]
    }
   ],
   "source": [
    "#Generating 0-9\n",
    "listt1 = listt[:10]\n",
    "print (listt1)\n",
    "\n",
    "listt11 = []\n",
    "\n",
    "import num2words\n",
    "import re\n",
    "\n",
    "\n",
    "for item in listt1:\n",
    "    item1 = \" \".join(item)\n",
    "    item1 = re.sub(r\"(\\d+)\", lambda x: num2words.num2words(int(x.group(0))), item1)\n",
    "    listt11.append(item1)\n",
    "    \n",
    "    item2 = \"0\"+item\n",
    "    item2 = \" \".join(item2)\n",
    "    item2 = re.sub(r\"(\\d+)\", lambda x: num2words.num2words(int(x.group(0))), item2)\n",
    "    listt11.append(item2)\n",
    "    \n",
    "    item3 = \"00\"+item\n",
    "    item3 = \" \".join(item3)\n",
    "    item3 = re.sub(r\"(\\d+)\", lambda x: num2words.num2words(int(x.group(0))), item3)\n",
    "    listt11.append(item3)\n",
    "    \n",
    "\n",
    "print (listt11)"
   ]
  },
  {
   "cell_type": "code",
   "execution_count": 34,
   "metadata": {},
   "outputs": [
    {
     "name": "stdout",
     "output_type": "stream",
     "text": [
      "['11', '12', '13', '14', '15', '16', '17', '18', '19', '20', '21', '22', '23', '24', '25', '26', '27', '28', '29', '30', '31', '32', '33', '34', '35', '36', '37', '38', '39', '40', '41', '42', '43', '44', '45', '46', '47', '48', '49', '50', '51', '52', '53', '54', '55', '56', '57', '58', '59', '60', '61', '62', '63', '64', '65', '66', '67', '68', '69', '70', '71', '72', '73', '74', '75', '76', '77', '78', '79', '80', '81', '82', '83', '84', '85', '86', '87', '88', '89', '90', '91', '92', '93', '94', '95', '96', '97', '98', '99']\n",
      "['one one', 'zero one one', 'one two', 'zero one two', 'one three', 'zero one three', 'one four', 'zero one four', 'one five', 'zero one five', 'one six', 'zero one six', 'one seven', 'zero one seven', 'one eight', 'zero one eight', 'one nine', 'zero one nine', 'two zero', 'zero two zero', 'two one', 'zero two one', 'two two', 'zero two two', 'two three', 'zero two three', 'two four', 'zero two four', 'two five', 'zero two five', 'two six', 'zero two six', 'two seven', 'zero two seven', 'two eight', 'zero two eight', 'two nine', 'zero two nine', 'three zero', 'zero three zero', 'three one', 'zero three one', 'three two', 'zero three two', 'three three', 'zero three three', 'three four', 'zero three four', 'three five', 'zero three five', 'three six', 'zero three six', 'three seven', 'zero three seven', 'three eight', 'zero three eight', 'three nine', 'zero three nine', 'four zero', 'zero four zero', 'four one', 'zero four one', 'four two', 'zero four two', 'four three', 'zero four three', 'four four', 'zero four four', 'four five', 'zero four five', 'four six', 'zero four six', 'four seven', 'zero four seven', 'four eight', 'zero four eight', 'four nine', 'zero four nine', 'five zero', 'zero five zero', 'five one', 'zero five one', 'five two', 'zero five two', 'five three', 'zero five three', 'five four', 'zero five four', 'five five', 'zero five five', 'five six', 'zero five six', 'five seven', 'zero five seven', 'five eight', 'zero five eight', 'five nine', 'zero five nine', 'six zero', 'zero six zero', 'six one', 'zero six one', 'six two', 'zero six two', 'six three', 'zero six three', 'six four', 'zero six four', 'six five', 'zero six five', 'six six', 'zero six six', 'six seven', 'zero six seven', 'six eight', 'zero six eight', 'six nine', 'zero six nine', 'seven zero', 'zero seven zero', 'seven one', 'zero seven one', 'seven two', 'zero seven two', 'seven three', 'zero seven three', 'seven four', 'zero seven four', 'seven five', 'zero seven five', 'seven six', 'zero seven six', 'seven seven', 'zero seven seven', 'seven eight', 'zero seven eight', 'seven nine', 'zero seven nine', 'eight zero', 'zero eight zero', 'eight one', 'zero eight one', 'eight two', 'zero eight two', 'eight three', 'zero eight three', 'eight four', 'zero eight four', 'eight five', 'zero eight five', 'eight six', 'zero eight six', 'eight seven', 'zero eight seven', 'eight eight', 'zero eight eight', 'eight nine', 'zero eight nine', 'nine zero', 'zero nine zero', 'nine one', 'zero nine one', 'nine two', 'zero nine two', 'nine three', 'zero nine three', 'nine four', 'zero nine four', 'nine five', 'zero nine five', 'nine six', 'zero nine six', 'nine seven', 'zero nine seven', 'nine eight', 'zero nine eight', 'nine nine', 'zero nine nine']\n"
     ]
    }
   ],
   "source": [
    "#Generating 10-99\n",
    "listt2 = listt[11:100]\n",
    "print (listt2)\n",
    "\n",
    "listt22 = []\n",
    "\n",
    "import num2words\n",
    "import re\n",
    "\n",
    "\n",
    "for item in listt2:\n",
    "    item1 = \" \".join(item)\n",
    "    item1 = re.sub(r\"(\\d+)\", lambda x: num2words.num2words(int(x.group(0))), item1)\n",
    "    listt22.append(item1)\n",
    "    \n",
    "    item2 = \"0\"+item\n",
    "    item2 = \" \".join(item2)\n",
    "    item2 = re.sub(r\"(\\d+)\", lambda x: num2words.num2words(int(x.group(0))), item2)\n",
    "    listt22.append(item2)\n",
    "    \n",
    "\n",
    "print (listt22)"
   ]
  },
  {
   "cell_type": "code",
   "execution_count": 35,
   "metadata": {},
   "outputs": [
    {
     "name": "stdout",
     "output_type": "stream",
     "text": [
      "['101', '102', '103', '104', '105', '106', '107', '108', '109', '110', '111', '112', '113', '114', '115', '116', '117', '118', '119', '120', '121', '122', '123', '124', '125', '126', '127', '128', '129', '130', '131', '132', '133', '134', '135', '136', '137', '138', '139', '140', '141', '142', '143', '144', '145', '146', '147', '148', '149', '150', '151', '152', '153', '154', '155', '156', '157', '158', '159', '160', '161', '162', '163', '164', '165', '166', '167', '168', '169', '170', '171', '172', '173', '174', '175', '176', '177', '178', '179', '180', '181', '182', '183', '184', '185', '186', '187', '188', '189', '190', '191', '192', '193', '194', '195', '196', '197', '198', '199', '200', '201', '202', '203', '204', '205', '206', '207', '208', '209', '210', '211', '212', '213', '214', '215', '216', '217', '218', '219', '220', '221', '222', '223', '224', '225', '226', '227', '228', '229', '230', '231', '232', '233', '234', '235', '236', '237', '238', '239', '240', '241', '242', '243', '244', '245', '246', '247', '248', '249', '250', '251', '252', '253', '254', '255', '256', '257', '258', '259', '260', '261', '262', '263', '264', '265', '266', '267', '268', '269', '270', '271', '272', '273', '274', '275', '276', '277', '278', '279', '280', '281', '282', '283', '284', '285', '286', '287', '288', '289', '290', '291', '292', '293', '294', '295', '296', '297', '298', '299', '300', '301', '302', '303', '304', '305', '306', '307', '308', '309', '310', '311', '312', '313', '314', '315', '316', '317', '318', '319', '320', '321', '322', '323', '324', '325', '326', '327', '328', '329', '330', '331', '332', '333', '334', '335', '336', '337', '338', '339', '340', '341', '342', '343', '344', '345', '346', '347', '348', '349', '350', '351', '352', '353', '354', '355', '356', '357', '358', '359', '360']\n",
      "['one zero one', 'one zero two', 'one zero three', 'one zero four', 'one zero five', 'one zero six', 'one zero seven', 'one zero eight', 'one zero nine', 'one one zero', 'one one one', 'one one two', 'one one three', 'one one four', 'one one five', 'one one six', 'one one seven', 'one one eight', 'one one nine', 'one two zero', 'one two one', 'one two two', 'one two three', 'one two four', 'one two five', 'one two six', 'one two seven', 'one two eight', 'one two nine', 'one three zero', 'one three one', 'one three two', 'one three three', 'one three four', 'one three five', 'one three six', 'one three seven', 'one three eight', 'one three nine', 'one four zero', 'one four one', 'one four two', 'one four three', 'one four four', 'one four five', 'one four six', 'one four seven', 'one four eight', 'one four nine', 'one five zero', 'one five one', 'one five two', 'one five three', 'one five four', 'one five five', 'one five six', 'one five seven', 'one five eight', 'one five nine', 'one six zero', 'one six one', 'one six two', 'one six three', 'one six four', 'one six five', 'one six six', 'one six seven', 'one six eight', 'one six nine', 'one seven zero', 'one seven one', 'one seven two', 'one seven three', 'one seven four', 'one seven five', 'one seven six', 'one seven seven', 'one seven eight', 'one seven nine', 'one eight zero', 'one eight one', 'one eight two', 'one eight three', 'one eight four', 'one eight five', 'one eight six', 'one eight seven', 'one eight eight', 'one eight nine', 'one nine zero', 'one nine one', 'one nine two', 'one nine three', 'one nine four', 'one nine five', 'one nine six', 'one nine seven', 'one nine eight', 'one nine nine', 'two zero zero', 'two zero one', 'two zero two', 'two zero three', 'two zero four', 'two zero five', 'two zero six', 'two zero seven', 'two zero eight', 'two zero nine', 'two one zero', 'two one one', 'two one two', 'two one three', 'two one four', 'two one five', 'two one six', 'two one seven', 'two one eight', 'two one nine', 'two two zero', 'two two one', 'two two two', 'two two three', 'two two four', 'two two five', 'two two six', 'two two seven', 'two two eight', 'two two nine', 'two three zero', 'two three one', 'two three two', 'two three three', 'two three four', 'two three five', 'two three six', 'two three seven', 'two three eight', 'two three nine', 'two four zero', 'two four one', 'two four two', 'two four three', 'two four four', 'two four five', 'two four six', 'two four seven', 'two four eight', 'two four nine', 'two five zero', 'two five one', 'two five two', 'two five three', 'two five four', 'two five five', 'two five six', 'two five seven', 'two five eight', 'two five nine', 'two six zero', 'two six one', 'two six two', 'two six three', 'two six four', 'two six five', 'two six six', 'two six seven', 'two six eight', 'two six nine', 'two seven zero', 'two seven one', 'two seven two', 'two seven three', 'two seven four', 'two seven five', 'two seven six', 'two seven seven', 'two seven eight', 'two seven nine', 'two eight zero', 'two eight one', 'two eight two', 'two eight three', 'two eight four', 'two eight five', 'two eight six', 'two eight seven', 'two eight eight', 'two eight nine', 'two nine zero', 'two nine one', 'two nine two', 'two nine three', 'two nine four', 'two nine five', 'two nine six', 'two nine seven', 'two nine eight', 'two nine nine', 'three zero zero', 'three zero one', 'three zero two', 'three zero three', 'three zero four', 'three zero five', 'three zero six', 'three zero seven', 'three zero eight', 'three zero nine', 'three one zero', 'three one one', 'three one two', 'three one three', 'three one four', 'three one five', 'three one six', 'three one seven', 'three one eight', 'three one nine', 'three two zero', 'three two one', 'three two two', 'three two three', 'three two four', 'three two five', 'three two six', 'three two seven', 'three two eight', 'three two nine', 'three three zero', 'three three one', 'three three two', 'three three three', 'three three four', 'three three five', 'three three six', 'three three seven', 'three three eight', 'three three nine', 'three four zero', 'three four one', 'three four two', 'three four three', 'three four four', 'three four five', 'three four six', 'three four seven', 'three four eight', 'three four nine', 'three five zero', 'three five one', 'three five two', 'three five three', 'three five four', 'three five five', 'three five six', 'three five seven', 'three five eight', 'three five nine', 'three six zero']\n"
     ]
    }
   ],
   "source": [
    "#Generating 100-360\n",
    "listt3 = listt[101:]\n",
    "print (listt3)\n",
    "\n",
    "listt33 = []\n",
    "\n",
    "import num2words\n",
    "import re\n",
    "\n",
    "\n",
    "for item in listt3:\n",
    "    item1 = \" \".join(item)\n",
    "    item1 = re.sub(r\"(\\d+)\", lambda x: num2words.num2words(int(x.group(0))), item1)\n",
    "    listt33.append(item1)\n",
    "\n",
    "print (listt33)"
   ]
  },
  {
   "cell_type": "code",
   "execution_count": 37,
   "metadata": {},
   "outputs": [
    {
     "name": "stdout",
     "output_type": "stream",
     "text": [
      "['zero', 'zero zero', 'zero zero zero', 'one', 'zero one', 'zero zero one', 'two', 'zero two', 'zero zero two', 'three', 'zero three', 'zero zero three', 'four', 'zero four', 'zero zero four', 'five', 'zero five', 'zero zero five', 'six', 'zero six', 'zero zero six', 'seven', 'zero seven', 'zero zero seven', 'eight', 'zero eight', 'zero zero eight', 'nine', 'zero nine', 'zero zero nine', 'one one', 'zero one one', 'one two', 'zero one two', 'one three', 'zero one three', 'one four', 'zero one four', 'one five', 'zero one five', 'one six', 'zero one six', 'one seven', 'zero one seven', 'one eight', 'zero one eight', 'one nine', 'zero one nine', 'two zero', 'zero two zero', 'two one', 'zero two one', 'two two', 'zero two two', 'two three', 'zero two three', 'two four', 'zero two four', 'two five', 'zero two five', 'two six', 'zero two six', 'two seven', 'zero two seven', 'two eight', 'zero two eight', 'two nine', 'zero two nine', 'three zero', 'zero three zero', 'three one', 'zero three one', 'three two', 'zero three two', 'three three', 'zero three three', 'three four', 'zero three four', 'three five', 'zero three five', 'three six', 'zero three six', 'three seven', 'zero three seven', 'three eight', 'zero three eight', 'three nine', 'zero three nine', 'four zero', 'zero four zero', 'four one', 'zero four one', 'four two', 'zero four two', 'four three', 'zero four three', 'four four', 'zero four four', 'four five', 'zero four five', 'four six', 'zero four six', 'four seven', 'zero four seven', 'four eight', 'zero four eight', 'four nine', 'zero four nine', 'five zero', 'zero five zero', 'five one', 'zero five one', 'five two', 'zero five two', 'five three', 'zero five three', 'five four', 'zero five four', 'five five', 'zero five five', 'five six', 'zero five six', 'five seven', 'zero five seven', 'five eight', 'zero five eight', 'five nine', 'zero five nine', 'six zero', 'zero six zero', 'six one', 'zero six one', 'six two', 'zero six two', 'six three', 'zero six three', 'six four', 'zero six four', 'six five', 'zero six five', 'six six', 'zero six six', 'six seven', 'zero six seven', 'six eight', 'zero six eight', 'six nine', 'zero six nine', 'seven zero', 'zero seven zero', 'seven one', 'zero seven one', 'seven two', 'zero seven two', 'seven three', 'zero seven three', 'seven four', 'zero seven four', 'seven five', 'zero seven five', 'seven six', 'zero seven six', 'seven seven', 'zero seven seven', 'seven eight', 'zero seven eight', 'seven nine', 'zero seven nine', 'eight zero', 'zero eight zero', 'eight one', 'zero eight one', 'eight two', 'zero eight two', 'eight three', 'zero eight three', 'eight four', 'zero eight four', 'eight five', 'zero eight five', 'eight six', 'zero eight six', 'eight seven', 'zero eight seven', 'eight eight', 'zero eight eight', 'eight nine', 'zero eight nine', 'nine zero', 'zero nine zero', 'nine one', 'zero nine one', 'nine two', 'zero nine two', 'nine three', 'zero nine three', 'nine four', 'zero nine four', 'nine five', 'zero nine five', 'nine six', 'zero nine six', 'nine seven', 'zero nine seven', 'nine eight', 'zero nine eight', 'nine nine', 'zero nine nine', 'one zero one', 'one zero two', 'one zero three', 'one zero four', 'one zero five', 'one zero six', 'one zero seven', 'one zero eight', 'one zero nine', 'one one zero', 'one one one', 'one one two', 'one one three', 'one one four', 'one one five', 'one one six', 'one one seven', 'one one eight', 'one one nine', 'one two zero', 'one two one', 'one two two', 'one two three', 'one two four', 'one two five', 'one two six', 'one two seven', 'one two eight', 'one two nine', 'one three zero', 'one three one', 'one three two', 'one three three', 'one three four', 'one three five', 'one three six', 'one three seven', 'one three eight', 'one three nine', 'one four zero', 'one four one', 'one four two', 'one four three', 'one four four', 'one four five', 'one four six', 'one four seven', 'one four eight', 'one four nine', 'one five zero', 'one five one', 'one five two', 'one five three', 'one five four', 'one five five', 'one five six', 'one five seven', 'one five eight', 'one five nine', 'one six zero', 'one six one', 'one six two', 'one six three', 'one six four', 'one six five', 'one six six', 'one six seven', 'one six eight', 'one six nine', 'one seven zero', 'one seven one', 'one seven two', 'one seven three', 'one seven four', 'one seven five', 'one seven six', 'one seven seven', 'one seven eight', 'one seven nine', 'one eight zero', 'one eight one', 'one eight two', 'one eight three', 'one eight four', 'one eight five', 'one eight six', 'one eight seven', 'one eight eight', 'one eight nine', 'one nine zero', 'one nine one', 'one nine two', 'one nine three', 'one nine four', 'one nine five', 'one nine six', 'one nine seven', 'one nine eight', 'one nine nine', 'two zero zero', 'two zero one', 'two zero two', 'two zero three', 'two zero four', 'two zero five', 'two zero six', 'two zero seven', 'two zero eight', 'two zero nine', 'two one zero', 'two one one', 'two one two', 'two one three', 'two one four', 'two one five', 'two one six', 'two one seven', 'two one eight', 'two one nine', 'two two zero', 'two two one', 'two two two', 'two two three', 'two two four', 'two two five', 'two two six', 'two two seven', 'two two eight', 'two two nine', 'two three zero', 'two three one', 'two three two', 'two three three', 'two three four', 'two three five', 'two three six', 'two three seven', 'two three eight', 'two three nine', 'two four zero', 'two four one', 'two four two', 'two four three', 'two four four', 'two four five', 'two four six', 'two four seven', 'two four eight', 'two four nine', 'two five zero', 'two five one', 'two five two', 'two five three', 'two five four', 'two five five', 'two five six', 'two five seven', 'two five eight', 'two five nine', 'two six zero', 'two six one', 'two six two', 'two six three', 'two six four', 'two six five', 'two six six', 'two six seven', 'two six eight', 'two six nine', 'two seven zero', 'two seven one', 'two seven two', 'two seven three', 'two seven four', 'two seven five', 'two seven six', 'two seven seven', 'two seven eight', 'two seven nine', 'two eight zero', 'two eight one', 'two eight two', 'two eight three', 'two eight four', 'two eight five', 'two eight six', 'two eight seven', 'two eight eight', 'two eight nine', 'two nine zero', 'two nine one', 'two nine two', 'two nine three', 'two nine four', 'two nine five', 'two nine six', 'two nine seven', 'two nine eight', 'two nine nine', 'three zero zero', 'three zero one', 'three zero two', 'three zero three', 'three zero four', 'three zero five', 'three zero six', 'three zero seven', 'three zero eight', 'three zero nine', 'three one zero', 'three one one', 'three one two', 'three one three', 'three one four', 'three one five', 'three one six', 'three one seven', 'three one eight', 'three one nine', 'three two zero', 'three two one', 'three two two', 'three two three', 'three two four', 'three two five', 'three two six', 'three two seven', 'three two eight', 'three two nine', 'three three zero', 'three three one', 'three three two', 'three three three', 'three three four', 'three three five', 'three three six', 'three three seven', 'three three eight', 'three three nine', 'three four zero', 'three four one', 'three four two', 'three four three', 'three four four', 'three four five', 'three four six', 'three four seven', 'three four eight', 'three four nine', 'three five zero', 'three five one', 'three five two', 'three five three', 'three five four', 'three five five', 'three five six', 'three five seven', 'three five eight', 'three five nine', 'three six zero']\n"
     ]
    }
   ],
   "source": [
    "super_list = listt11+listt22+listt33\n",
    "\n",
    "print (super_list)"
   ]
  },
  {
   "cell_type": "code",
   "execution_count": 39,
   "metadata": {},
   "outputs": [],
   "source": [
    "with open(\"degree_0_360.txt\", 'w') as output:\n",
    "    for row in super_list:\n",
    "        output.write(str(row) + '\\n')\n"
   ]
  },
  {
   "cell_type": "code",
   "execution_count": null,
   "metadata": {},
   "outputs": [],
   "source": []
  }
 ],
 "metadata": {
  "kernelspec": {
   "display_name": "Python 3",
   "language": "python",
   "name": "python3"
  },
  "language_info": {
   "codemirror_mode": {
    "name": "ipython",
    "version": 3
   },
   "file_extension": ".py",
   "mimetype": "text/x-python",
   "name": "python",
   "nbconvert_exporter": "python",
   "pygments_lexer": "ipython3",
   "version": "3.9.6"
  }
 },
 "nbformat": 4,
 "nbformat_minor": 4
}
